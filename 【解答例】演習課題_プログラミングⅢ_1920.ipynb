{
  "nbformat": 4,
  "nbformat_minor": 0,
  "metadata": {
    "colab": {
      "provenance": [],
      "include_colab_link": true
    },
    "kernelspec": {
      "name": "python3",
      "display_name": "Python 3"
    },
    "language_info": {
      "name": "python"
    }
  },
  "cells": [
    {
      "cell_type": "markdown",
      "metadata": {
        "id": "view-in-github",
        "colab_type": "text"
      },
      "source": [
        "<a href=\"https://colab.research.google.com/github/kurihara-ryo/cesarean-pasaran/blob/main/%E3%80%90%E8%A7%A3%E7%AD%94%E4%BE%8B%E3%80%91%E6%BC%94%E7%BF%92%E8%AA%B2%E9%A1%8C_%E3%83%97%E3%83%AD%E3%82%B0%E3%83%A9%E3%83%9F%E3%83%B3%E3%82%B0%E2%85%A2_1920.ipynb\" target=\"_parent\"><img src=\"https://colab.research.google.com/assets/colab-badge.svg\" alt=\"Open In Colab\"/></a>"
      ]
    },
    {
      "cell_type": "code",
      "source": [
        "#【課題】と書いてあるセルでは、自分でプログラムを作成してください。\n",
        "# 実行ボタンを押してプログラムの動作確認を行い、Google Classroomから提出してください。\n",
        "# 提出する際は、コメント(#から始まる部分)を削除せずに残してください。\n",
        "# 〆切が近いので、後回しにせず講義時間中に手を動かしてプログラムを作成すること。"
      ],
      "metadata": {
        "id": "Q5Oz_bNHEFRp"
      },
      "execution_count": null,
      "outputs": []
    },
    {
      "cell_type": "code",
      "source": [
        "#### 大規模データに対する深層学習\n",
        "# 大規模データの例として、Fashion MNISTデータセットを使用します。\n",
        "# 学習データ数50000、バリデーションデータ数10000、テストデータ数10000です。\n",
        "\n",
        "# 必要なモジュール一式を準備\n",
        "import torch\n",
        "import torch.nn as nn\n",
        "import torch.optim as optim\n",
        "from torch.utils.data import DataLoader, random_split\n",
        "from torchvision import datasets, transforms\n",
        "from sklearn.metrics import accuracy_score, roc_auc_score\n",
        "import matplotlib.pyplot as plt\n",
        "\n",
        "# 乱数シードの設定\n",
        "seed = 42 # 変更しない\n",
        "torch.manual_seed(seed)\n",
        "print('Random seed: {}'.format(seed))\n",
        "\n",
        "# データセットの読み込み\n",
        "# torchvisionモジュールを使って、Fashion MNISTデータセットを読み込みます。\n",
        "# transformには、読み込みと同時に行う前処理を指定します。\n",
        "# ここではテンソルへの変換を行っています。\n",
        "# rootには、ダウンロードしたファイルの保存先ディレクトリを指定します。\n",
        "# 今回はGoogle Colab内に保存するので、適当なディレクトリでOKです。\n",
        "transform = transforms.ToTensor()\n",
        "train_val_dataset = datasets.FashionMNIST(root='./data', train=True, download=True, transform=transform)\n",
        "test_dataset = datasets.FashionMNIST(root='./data', train=False, download=True, transform=transform)\n",
        "print('\\n')\n",
        "\n",
        "# 学習データとバリデーションデータの分割\n",
        "# torchのrandom_split()を使って、train_val_datasetをランダムに分割します。\n",
        "# 今回は学習データ50000個、バリデーションデータ10000個に分割しています。\n",
        "train_dataset, val_dataset = random_split(train_val_dataset, [50000, 10000])\n",
        "\n",
        "# データ数を表示\n",
        "# テストデータは10000個です。\n",
        "print('Train data size: {}'.format(len(train_dataset)))\n",
        "print('Val data size: {}'.format(len(val_dataset)))\n",
        "print('Test data size: {}'.format(len(test_dataset)))"
      ],
      "metadata": {
        "colab": {
          "base_uri": "https://localhost:8080/"
        },
        "id": "L3sgdEIGflJ7",
        "outputId": "30d0333e-e0db-414b-b18c-d4e33c8b2711"
      },
      "execution_count": null,
      "outputs": [
        {
          "output_type": "stream",
          "name": "stdout",
          "text": [
            "Random seed: 42\n"
          ]
        },
        {
          "output_type": "stream",
          "name": "stderr",
          "text": [
            "100%|██████████| 26.4M/26.4M [00:01<00:00, 22.3MB/s]\n",
            "100%|██████████| 29.5k/29.5k [00:00<00:00, 337kB/s]\n",
            "100%|██████████| 4.42M/4.42M [00:00<00:00, 6.23MB/s]\n",
            "100%|██████████| 5.15k/5.15k [00:00<00:00, 12.8MB/s]"
          ]
        },
        {
          "output_type": "stream",
          "name": "stdout",
          "text": [
            "\n",
            "\n",
            "Train data size: 50000\n",
            "Val data size: 10000\n",
            "Test data size: 10000\n"
          ]
        },
        {
          "output_type": "stream",
          "name": "stderr",
          "text": [
            "\n"
          ]
        }
      ]
    },
    {
      "cell_type": "code",
      "source": [
        "# データセットの中身を確認します。\n",
        "# 各データは画像とラベルのペアからなります。\n",
        "# 画像はチャネル数1、高さ28ピクセル、幅28ピクセルの白黒画像を表すテンソル、\n",
        "# ラベルは10個のクラスどれかを表す整数(0, 1, ..., 9)です。\n",
        "# matplotlibで表示してみます。\n",
        "\n",
        "# 0番目のデータ\n",
        "image, label = train_val_dataset[0]\n",
        "# imageはshape (1, 28, 28)で、最初の次元はチャネル数\n",
        "# matplotlibで表示するため、最初の次元を削除してshape (28, 28)に変換\n",
        "image = image.squeeze(0)\n",
        "# imsshow()で画像をグレースケールで表示\n",
        "plt.imshow(image, cmap='gray')\n",
        "plt.title(f\"Label: {label}\")\n",
        "plt.show()\n",
        "\n",
        "# 5番目のデータも表示\n",
        "image, label = train_val_dataset[5]\n",
        "image = image.squeeze(0)\n",
        "plt.imshow(image, cmap='gray')\n",
        "plt.title(f\"Label: {label}\")\n",
        "plt.show()\n",
        "\n",
        "# 0番目の画像のラベルは9：Ankle boot(アンクルブーツ)\n",
        "# 5番目の画像のラベルは2：Pullover(プルオーバー、頭から被って着る服)"
      ],
      "metadata": {
        "colab": {
          "base_uri": "https://localhost:8080/",
          "height": 887
        },
        "id": "1NUNG5tiqmJf",
        "outputId": "ed4e37b3-0389-4b6a-fe4e-c98913460717"
      },
      "execution_count": null,
      "outputs": [
        {
          "output_type": "display_data",
          "data": {
            "text/plain": [
              "<Figure size 640x480 with 1 Axes>"
            ],
            "image/png": "[encoded data removed]"
          },
          "metadata": {}
        },
        {
          "output_type": "display_data",
          "data": {
            "text/plain": [
              "<Figure size 640x480 with 1 Axes>"
            ],
            "image/png": "[encoded data removed]"
          },
          "metadata": {}
        }
      ]
    },
    {
      "cell_type": "code",
      "source": [
        "# 10クラスのマルチクラス分類モデルを作成します。\n",
        "# まずは、シンプルな多層パーセプトロンを考えます。\n",
        "# 入力の画像データはshape (1, 28, 28)のテンソルですが、\n",
        "# 多層パーセプトロンで扱うデータは1次元テンソル(ベクトル)にする必要があります。\n",
        "# そのため以下の例では、ネットワーク構造の定義において、\n",
        "# nn.Flatten()を使ってテンソルを1次元に変換する処理を入れています。\n",
        "# それ以外の部分は第15,16回の演習課題と同様の流れです。\n",
        "\n",
        "# 乱数シードの設定\n",
        "torch.manual_seed(seed)\n",
        "print('Random seed: {}'.format(seed))\n",
        "\n",
        "# ネットワーク構造の定義\n",
        "model = nn.Sequential(\n",
        "    nn.Flatten(),          # 1次元に変換\n",
        "    nn.Linear(28*28, 256), # (1, 28, 28)を1次元に変換したので、入力のユニット数は28*28\n",
        "    nn.ReLU(),\n",
        "    nn.Linear(256, 128),\n",
        "    nn.ReLU(),\n",
        "    nn.Linear(128, 10)     # logitsを出力\n",
        ")\n",
        "\n",
        "# 損失関数の定義\n",
        "# マルチクラス分類用の交差エントロピー誤差nn.CrossEntropyLoss()を用いる。\n",
        "# 前回使用した2クラス分類用のnn.BCEWithLogitsLoss()のマルチクラス版。\n",
        "# クラス確率ではなくlogitsを引数とする点も同様。\n",
        "criterion = nn.CrossEntropyLoss()\n",
        "\n",
        "# SGDの定義\n",
        "optimizer = optim.SGD(model.parameters(), lr=0.001)\n",
        "\n",
        "# バッチサイズの指定\n",
        "# shuffle=Trueとすると、エポックごとにデータの順番をランダムに並び替える。\n",
        "# 学習後の汎化性能が良くなることがある。\n",
        "train_loader = DataLoader(train_dataset, batch_size=64, shuffle=True)\n",
        "\n",
        "# 学習ループ\n",
        "# データ数が多いため、10エポックでも計算時間かかる。\n",
        "for epoch in range(10):\n",
        "    model.train() # 学習モード：後で説明\n",
        "    epoch_loss = 0.0\n",
        "    for X_batch, y_batch in train_loader:\n",
        "        optimizer.zero_grad()\n",
        "        outputs = model(X_batch)\n",
        "        loss = criterion(outputs, y_batch)\n",
        "        loss.backward()\n",
        "        optimizer.step()\n",
        "        epoch_loss += loss.item() * X_batch.size(0)\n",
        "    avg_loss = epoch_loss / len(train_loader.dataset)\n",
        "    print('Epoch {}, Loss: {}'.format(epoch, avg_loss))"
      ],
      "metadata": {
        "colab": {
          "base_uri": "https://localhost:8080/"
        },
        "id": "NTByJyvpcLBe",
        "outputId": "c1c8d1f1-8262-4ef6-ccf2-ba0304247908"
      },
      "execution_count": null,
      "outputs": [
        {
          "output_type": "stream",
          "name": "stdout",
          "text": [
            "Random seed: 42\n",
            "Epoch 0, Loss: 2.2722601040649413\n",
            "Epoch 1, Loss: 2.187280522918701\n",
            "Epoch 2, Loss: 2.0329482872009277\n",
            "Epoch 3, Loss: 1.7821661019897461\n",
            "Epoch 4, Loss: 1.512087251815796\n",
            "Epoch 5, Loss: 1.302744469833374\n",
            "Epoch 6, Loss: 1.1565939561843872\n",
            "Epoch 7, Loss: 1.0532730700874329\n",
            "Epoch 8, Loss: 0.9772792803001403\n",
            "Epoch 9, Loss: 0.9199367595291138\n"
          ]
        }
      ]
    },
    {
      "cell_type": "code",
      "source": [
        "# テストデータに対するaccuracyを評価します。\n",
        "# マルチクラス分類のaccuracyを計算する場合、\n",
        "# accuracy_score()にはクラスラベルの整数が入ったリストを渡します。\n",
        "\n",
        "# accuracyの計算は何度も行うので関数にしておきます。\n",
        "# モデルとデータを引数として、accuracyを戻り値とする関数。\n",
        "def evaluate(model, dataloader):\n",
        "    model.eval() # 評価モード：後で説明\n",
        "    y_true_list = []\n",
        "    y_pred_list = []\n",
        "    with torch.no_grad():\n",
        "        for X, y in dataloader:\n",
        "            # logitsを計算\n",
        "            outputs = model(X)\n",
        "            # logitsの最も大きいクラスに割り当てる\n",
        "            # argmax()は最も大きい要素のインデックス(整数)を返す\n",
        "            preds = torch.argmax(outputs, dim=1)\n",
        "            # extend()はリストの連結を行う\n",
        "            y_true_list.extend(y.numpy())\n",
        "            y_pred_list.extend(preds.numpy())\n",
        "    acc = accuracy_score(y_true_list, y_pred_list)\n",
        "    return acc\n",
        "\n",
        "\n",
        "# テストデータのdataloaderを作成\n",
        "test_loader = DataLoader(test_dataset, batch_size=64)\n",
        "# テストデータに対するaccuracyを評価\n",
        "test_acc = evaluate(model, test_loader)\n",
        "print('Accuracy on test data: {}'.format(test_acc))"
      ],
      "metadata": {
        "colab": {
          "base_uri": "https://localhost:8080/"
        },
        "id": "EzsbZ90Tpvuv",
        "outputId": "78e73e58-298f-468a-949c-f948bdf04b63"
      },
      "execution_count": null,
      "outputs": [
        {
          "output_type": "stream",
          "name": "stdout",
          "text": [
            "Accuracy on test data: 0.6627\n"
          ]
        }
      ]
    },
    {
      "cell_type": "markdown",
      "source": [
        "【課題】上の例にならって、隠れ層1のユニット数を512、隠れ層2のユニット数を256に変更したネットワークを作成して、各エポックの損失関数の値を表示してください。学習後のモデルを使って、テストデータに対するaccuracyを計算して表示してください。それ以外の設定は上の例と同じにしてください。"
      ],
      "metadata": {
        "id": "WC30PNPyl4Aq"
      }
    },
    {
      "cell_type": "code",
      "source": [
        "# 乱数シードの設定\n",
        "torch.manual_seed(seed)\n",
        "print('Random seed: {}'.format(seed))\n",
        "\n",
        "# ネットワーク構造の定義\n",
        "model = nn.Sequential(\n",
        "    nn.Flatten(),\n",
        "    nn.Linear(28*28, 512),\n",
        "    nn.ReLU(),\n",
        "    nn.Linear(512, 256),\n",
        "    nn.ReLU(),\n",
        "    nn.Linear(256, 10)\n",
        ")\n",
        "\n",
        "# 損失関数の定義\n",
        "criterion = nn.CrossEntropyLoss()\n",
        "\n",
        "# SGDの定義\n",
        "optimizer = optim.SGD(model.parameters(), lr=0.001)\n",
        "\n",
        "# バッチサイズの指定\n",
        "train_loader = DataLoader(train_dataset, batch_size=64, shuffle=True)\n",
        "\n",
        "# 学習ループ\n",
        "for epoch in range(10):\n",
        "    model.train()\n",
        "    epoch_loss = 0.0\n",
        "    for X_batch, y_batch in train_loader:\n",
        "        optimizer.zero_grad()\n",
        "        outputs = model(X_batch)\n",
        "        loss = criterion(outputs, y_batch)\n",
        "        loss.backward()\n",
        "        optimizer.step()\n",
        "        epoch_loss += loss.item() * X_batch.size(0)\n",
        "    avg_loss = epoch_loss / len(train_loader.dataset)\n",
        "    print('Epoch {}, Loss: {}'.format(epoch, avg_loss))\n",
        "\n",
        "# テストデータのdataloaderを作成\n",
        "test_loader = DataLoader(test_dataset, batch_size=64)\n",
        "# テストデータに対するaccuracyを評価\n",
        "test_acc = evaluate(model, test_loader)\n",
        "print('Accuracy on test data: {}'.format(test_acc))"
      ],
      "metadata": {
        "colab": {
          "base_uri": "https://localhost:8080/"
        },
        "id": "ctr0-qjGl3J_",
        "outputId": "ac720fae-2b94-4a65-c490-1abc62f20b45"
      },
      "execution_count": null,
      "outputs": [
        {
          "output_type": "stream",
          "name": "stdout",
          "text": [
            "Random seed: 42\n",
            "Epoch 0, Loss: 2.2664272059631347\n",
            "Epoch 1, Loss: 2.1580254122161864\n",
            "Epoch 2, Loss: 1.9752341066741943\n",
            "Epoch 3, Loss: 1.70772761013031\n",
            "Epoch 4, Loss: 1.4419295090866089\n",
            "Epoch 5, Loss: 1.2404182201004028\n",
            "Epoch 6, Loss: 1.0996125386047364\n",
            "Epoch 7, Loss: 1.0016315516662597\n",
            "Epoch 8, Loss: 0.9315865235137939\n",
            "Epoch 9, Loss: 0.8796561162567139\n",
            "Accuracy on test data: 0.6707\n"
          ]
        }
      ]
    },
    {
      "cell_type": "code",
      "source": [
        "#### GPUの利用\n",
        "# GPUを使うことで計算を高速化できます。\n",
        "# Google Colabの右上のメニューから「ランタイムのタイプを変更」を選択して\n",
        "# ランタイムをT4 GPUに切り替えてください。\n",
        "# なお、Google Colabの無料アカウントではGPUの使用時間に上限があります。\n",
        "# 上限に到達してしまったら、ランタイムをCPUに戻しましょう。\n"
      ],
      "metadata": {
        "id": "9ugjsCHvn2dI"
      },
      "execution_count": null,
      "outputs": []
    },
    {
      "cell_type": "code",
      "source": [
        "# ランタイムを切り替えたので、再度、初期設定を行います。\n",
        "\n",
        "# 必要なモジュール一式を準備\n",
        "import torch\n",
        "import torch.nn as nn\n",
        "import torch.optim as optim\n",
        "from torch.utils.data import DataLoader, random_split\n",
        "from torchvision import datasets, transforms\n",
        "from sklearn.metrics import accuracy_score, roc_auc_score\n",
        "import matplotlib.pyplot as plt\n",
        "\n",
        "# 乱数シードの設定\n",
        "seed = 42 # 変更しない\n",
        "torch.manual_seed(seed)\n",
        "print('Random seed: {}'.format(seed))\n",
        "\n",
        "# データセットの読み込み\n",
        "transform = transforms.ToTensor()\n",
        "train_val_dataset = datasets.FashionMNIST(root='./data', train=True, download=True, transform=transform)\n",
        "test_dataset = datasets.FashionMNIST(root='./data', train=False, download=True, transform=transform)\n",
        "\n",
        "# 学習データとバリデーションデータに分割\n",
        "train_dataset, val_dataset = random_split(train_val_dataset, [50000, 10000])"
      ],
      "metadata": {
        "colab": {
          "base_uri": "https://localhost:8080/"
        },
        "id": "J6RfIH2O259M",
        "outputId": "9375fede-c2a2-4856-89c6-9d45a0660880"
      },
      "execution_count": null,
      "outputs": [
        {
          "output_type": "stream",
          "name": "stdout",
          "text": [
            "Random seed: 42\n"
          ]
        },
        {
          "output_type": "stream",
          "name": "stderr",
          "text": [
            "100%|██████████| 26.4M/26.4M [00:02<00:00, 13.2MB/s]\n",
            "100%|██████████| 29.5k/29.5k [00:00<00:00, 210kB/s]\n",
            "100%|██████████| 4.42M/4.42M [00:01<00:00, 3.90MB/s]\n",
            "100%|██████████| 5.15k/5.15k [00:00<00:00, 8.49MB/s]\n"
          ]
        }
      ]
    },
    {
      "cell_type": "code",
      "source": [
        "# 以下のコードを実行すると、\n",
        "# GPUが使える場合には変数deviceの値が'cuda'になります。\n",
        "# GPUが使えない(CPUのみ使える)場合にはdeviceは'cpu'になります。\n",
        "device = torch.device('cuda' if torch.cuda.is_available() else 'cpu')\n",
        "print('Using device: {}'.format(device))"
      ],
      "metadata": {
        "colab": {
          "base_uri": "https://localhost:8080/"
        },
        "id": "s9l-1YdwQoH9",
        "outputId": "a855d952-9756-4e37-b54c-369075d17d2e"
      },
      "execution_count": null,
      "outputs": [
        {
          "output_type": "stream",
          "name": "stdout",
          "text": [
            "Using device: cpu\n"
          ]
        }
      ]
    },
    {
      "cell_type": "code",
      "source": [
        "# GPUを使用する場合、to(device)を使ってモデルをGPUに移動する必要があります。\n",
        "# また、モデルの計算に必要な変数も同様にGPUに移動する必要があります。\n",
        "# deviceが'cuda'ならGPU、deviceが'cpu'なら通常通りCPUを使用します。\n",
        "# そのため、自分でコードを書くときには最初からto(device)を入れておく方が便利です。\n",
        "\n",
        "# 乱数シードの設定\n",
        "torch.manual_seed(seed)\n",
        "print('Random seed: {}'.format(seed))\n",
        "\n",
        "# GPUを使えるか判定\n",
        "device = torch.device('cuda' if torch.cuda.is_available() else 'cpu')\n",
        "print('Using device: {}'.format(device))\n",
        "\n",
        "# ネットワーク構造の定義\n",
        "model = nn.Sequential(\n",
        "    nn.Flatten(),\n",
        "    nn.Linear(28*28, 256),\n",
        "    nn.ReLU(),\n",
        "    nn.Linear(256, 128),\n",
        "    nn.ReLU(),\n",
        "    nn.Linear(128, 10)\n",
        ").to(device)\n",
        "## ↑deviceが'cuda'ならモデルをGPUに移動\n",
        "##   deviceが'cpu'なら通常通りCPUを使用\n",
        "\n",
        "# 損失関数の定義\n",
        "criterion = nn.CrossEntropyLoss()\n",
        "\n",
        "# SGDの定義\n",
        "optimizer = optim.SGD(model.parameters(), lr=0.001)\n",
        "\n",
        "# バッチサイズの指定\n",
        "train_loader = DataLoader(train_dataset, batch_size=64, shuffle=True)\n",
        "\n",
        "# 学習ループ\n",
        "for epoch in range(10):\n",
        "    model.train()\n",
        "    epoch_loss = 0.0\n",
        "    for X_batch, y_batch in train_loader:\n",
        "        ## X_batchはモデルの計算に必要なのでGPUに移動\n",
        "        ## y_batchも損失関数の計算に必要なのでGPUに移動\n",
        "        X_batch, y_batch = X_batch.to(device), y_batch.to(device)\n",
        "        optimizer.zero_grad()\n",
        "        outputs = model(X_batch)\n",
        "        loss = criterion(outputs, y_batch)\n",
        "        loss.backward()\n",
        "        optimizer.step()\n",
        "        epoch_loss += loss.item() * X_batch.size(0)\n",
        "    avg_loss = epoch_loss / len(train_loader.dataset)\n",
        "    print('Epoch {}, Loss: {}'.format(epoch, avg_loss))"
      ],
      "metadata": {
        "colab": {
          "base_uri": "https://localhost:8080/"
        },
        "id": "mYGcdhZn1lHf",
        "outputId": "9445cb62-ea7c-44ee-9755-9cb826f9884f"
      },
      "execution_count": null,
      "outputs": [
        {
          "output_type": "stream",
          "name": "stdout",
          "text": [
            "Random seed: 42\n",
            "Using device: cpu\n",
            "Epoch 0, Loss: 2.2722601040649413\n",
            "Epoch 1, Loss: 2.187280522918701\n",
            "Epoch 2, Loss: 2.0329482872009277\n",
            "Epoch 3, Loss: 1.7821661019897461\n",
            "Epoch 4, Loss: 1.512087251815796\n",
            "Epoch 5, Loss: 1.302744469833374\n",
            "Epoch 6, Loss: 1.1565939561843872\n",
            "Epoch 7, Loss: 1.0532730700874329\n",
            "Epoch 8, Loss: 0.9772792803001403\n",
            "Epoch 9, Loss: 0.9199367595291138\n"
          ]
        }
      ]
    },
    {
      "cell_type": "code",
      "source": [
        "# accuracy計算の関数にも修正が必要です、\n",
        "# モデルの計算に必要な変数XをGPUに移動します。\n",
        "# また、Xを使って計算された変数predsはGPU側に作られるので、\n",
        "# sklearnの関数に渡す際には、cpu()でCPU側に戻す必要があります。\n",
        "# これらについても、自分でコードを書くときには最初から入れておく方が便利です。\n",
        "\n",
        "def evaluate(model, dataloader):\n",
        "    model.eval()\n",
        "    y_true_list = []\n",
        "    y_pred_list = []\n",
        "    with torch.no_grad():\n",
        "        for X, y in dataloader:\n",
        "            ## Xはモデルの計算に必要なのでGPUに移動\n",
        "            X = X.to(device)\n",
        "            outputs = model(X)\n",
        "            preds = torch.argmax(outputs, dim=1)\n",
        "            y_true_list.extend(y.numpy())\n",
        "            ## preds.cpu()でCPUに戻す\n",
        "            y_pred_list.extend(preds.cpu().numpy())\n",
        "    acc = accuracy_score(y_true_list, y_pred_list)\n",
        "    return acc\n",
        "\n",
        "test_loader = DataLoader(test_dataset, batch_size=64)\n",
        "test_acc = evaluate(model, test_loader)\n",
        "print('Accuracy on test data: {}'.format(test_acc))"
      ],
      "metadata": {
        "colab": {
          "base_uri": "https://localhost:8080/"
        },
        "id": "aOjx0s7E2Sqj",
        "outputId": "a3d72ae2-05f0-4c25-e3f6-6367c522aae0"
      },
      "execution_count": null,
      "outputs": [
        {
          "output_type": "stream",
          "name": "stdout",
          "text": [
            "Accuracy on test data: 0.6627\n"
          ]
        }
      ]
    },
    {
      "cell_type": "code",
      "source": [
        "#### 改良型SGDの利用\n",
        "# 「深層学習入門」第2回で学んだ改良型SGDを使用すると、\n",
        "# 学習を安定させたり収束を早めることができます。\n",
        "# 例として、現在最もよく使用されている手法であるAdamを使ってみます。\n",
        "# 使い方は通常のSGDとほとんど同じです。\n",
        "\n",
        "# 乱数シードの設定\n",
        "torch.manual_seed(seed)\n",
        "print('Random seed: {}'.format(seed))\n",
        "\n",
        "# GPUを使えるか判定\n",
        "device = torch.device('cuda' if torch.cuda.is_available() else 'cpu')\n",
        "print('Using device: {}'.format(device))\n",
        "\n",
        "# ネットワーク構造の定義\n",
        "model = nn.Sequential(\n",
        "    nn.Flatten(),\n",
        "    nn.Linear(28*28, 256),\n",
        "    nn.ReLU(),\n",
        "    nn.Linear(256, 128),\n",
        "    nn.ReLU(),\n",
        "    nn.Linear(128, 10)\n",
        ").to(device)\n",
        "\n",
        "# 損失関数の定義\n",
        "criterion = nn.CrossEntropyLoss()\n",
        "\n",
        "# SGDの定義\n",
        "# Adamを使用\n",
        "optimizer = optim.Adam(model.parameters(), lr=0.001)\n",
        "\n",
        "# バッチサイズの指定\n",
        "train_loader = DataLoader(train_dataset, batch_size=64, shuffle=True)\n",
        "\n",
        "# 学習ループ\n",
        "for epoch in range(10):\n",
        "    model.train()\n",
        "    epoch_loss = 0.0\n",
        "    for X_batch, y_batch in train_loader:\n",
        "        X_batch, y_batch = X_batch.to(device), y_batch.to(device)\n",
        "        optimizer.zero_grad()\n",
        "        outputs = model(X_batch)\n",
        "        loss = criterion(outputs, y_batch)\n",
        "        loss.backward()\n",
        "        optimizer.step()\n",
        "        epoch_loss += loss.item() * X_batch.size(0)\n",
        "    avg_loss = epoch_loss / len(train_loader.dataset)\n",
        "    print('Epoch {}, Loss: {}'.format(epoch, avg_loss))\n",
        "\n",
        "\n",
        "test_acc = evaluate(model, test_loader)\n",
        "print('Accuracy on test data: {}'.format(test_acc))\n",
        "\n",
        "# 通常のSGDと比較して学習後のlossが小さくなり、\n",
        "# テストデータに対するaccuracyも高くなりました。"
      ],
      "metadata": {
        "colab": {
          "base_uri": "https://localhost:8080/"
        },
        "id": "plMsl1py6bIL",
        "outputId": "34728a83-4a99-4dac-c7ea-95f40252b4e4"
      },
      "execution_count": null,
      "outputs": [
        {
          "output_type": "stream",
          "name": "stdout",
          "text": [
            "Random seed: 42\n",
            "Using device: cpu\n",
            "Epoch 0, Loss: 0.5547939810276031\n",
            "Epoch 1, Loss: 0.38030759690284727\n",
            "Epoch 2, Loss: 0.3435750722980499\n",
            "Epoch 3, Loss: 0.317158204832077\n",
            "Epoch 4, Loss: 0.299096561627388\n",
            "Epoch 5, Loss: 0.28162264620184896\n",
            "Epoch 6, Loss: 0.26694339205265044\n",
            "Epoch 7, Loss: 0.2578299042034149\n",
            "Epoch 8, Loss: 0.24586272143363952\n",
            "Epoch 9, Loss: 0.23642131601333619\n",
            "Accuracy on test data: 0.8747\n"
          ]
        }
      ]
    },
    {
      "cell_type": "markdown",
      "source": [
        "【課題】「深層学習入門」第2回において、改良型SGDの1つとしてRMSpropについて学びました。上の例にならって、AdamをRMSpropに変更して、各エポックの損失関数の値を表示してください。学習後のモデルを使って、テストデータに対するaccuracyを計算して表示してください。それ以外の設定は上の例と同じにしてください。\n",
        "\n",
        "通常のSGDと比較して、学習後のlossやテストデータに対するaccuracyはどうなりましたか？コメントの解答欄に書いてください。\n"
      ],
      "metadata": {
        "id": "GKn3z6ijmlvf"
      }
    },
    {
      "cell_type": "code",
      "source": [
        "# 乱数シードの設定\n",
        "torch.manual_seed(seed)\n",
        "print('Random seed: {}'.format(seed))\n",
        "\n",
        "# GPUを使えるか判定\n",
        "device = torch.device('cuda' if torch.cuda.is_available() else 'cpu')\n",
        "print('Using device: {}'.format(device))\n",
        "\n",
        "# ネットワーク構造の定義\n",
        "model = nn.Sequential(\n",
        "    nn.Flatten(),\n",
        "    nn.Linear(28*28, 256),\n",
        "    nn.ReLU(),\n",
        "    nn.Linear(256, 128),\n",
        "    nn.ReLU(),\n",
        "    nn.Linear(128, 10)\n",
        ").to(device)\n",
        "\n",
        "# 損失関数の定義\n",
        "criterion = nn.CrossEntropyLoss()\n",
        "\n",
        "# SGDの定義\n",
        "# RMSpropを使用\n",
        "optimizer = optim.RMSprop(model.parameters(), lr=0.001)\n",
        "\n",
        "# バッチサイズの指定\n",
        "train_loader = DataLoader(train_dataset, batch_size=64, shuffle=True)\n",
        "\n",
        "# 学習ループ\n",
        "for epoch in range(10):\n",
        "    model.train()\n",
        "    epoch_loss = 0.0\n",
        "    for X_batch, y_batch in train_loader:\n",
        "        X_batch, y_batch = X_batch.to(device), y_batch.to(device)\n",
        "        optimizer.zero_grad()\n",
        "        outputs = model(X_batch)\n",
        "        loss = criterion(outputs, y_batch)\n",
        "        loss.backward()\n",
        "        optimizer.step()\n",
        "        epoch_loss += loss.item() * X_batch.size(0)\n",
        "    avg_loss = epoch_loss / len(train_loader.dataset)\n",
        "    print('Epoch {}, Loss: {}'.format(epoch, avg_loss))\n",
        "\n",
        "\n",
        "test_acc = evaluate(model, test_loader)\n",
        "print('Accuracy on test data: {}'.format(test_acc))\n",
        "\n",
        "#【解答欄】\n",
        "# ここに解答を書いてください。\n",
        "# 通常のSGDと比較して学習後のlossは0.92 --> 0.23と小さくなった。\n",
        "# テストデータに対するaccuracyは0.66--> 0.88と高くなった。"
      ],
      "metadata": {
        "colab": {
          "base_uri": "https://localhost:8080/"
        },
        "id": "xtz9RWbCn2Xk",
        "outputId": "e646592f-5a3a-46cf-ab8e-2cd6f3f2b3cb"
      },
      "execution_count": null,
      "outputs": [
        {
          "output_type": "stream",
          "name": "stdout",
          "text": [
            "Random seed: 42\n",
            "Using device: cpu\n",
            "Epoch 0, Loss: 0.5442892530822754\n",
            "Epoch 1, Loss: 0.3861286721992493\n",
            "Epoch 2, Loss: 0.3439986678981781\n",
            "Epoch 3, Loss: 0.31688272253990174\n",
            "Epoch 4, Loss: 0.2948024749755859\n",
            "Epoch 5, Loss: 0.2783399308347702\n",
            "Epoch 6, Loss: 0.2657232114624977\n",
            "Epoch 7, Loss: 0.2526134718465805\n",
            "Epoch 8, Loss: 0.24256887273788452\n",
            "Epoch 9, Loss: 0.23288747489452363\n",
            "Accuracy on test data: 0.8775\n"
          ]
        }
      ]
    },
    {
      "cell_type": "code",
      "source": [
        "#### バリデーションデータの利用\n",
        "# 深層学習では、バリデーションデータを使用して過学習の検知やハイパラの調整を行います。\n",
        "# 以下の例では、学習の各エポックでバリデーションデータに対する損失を評価しています。\n",
        "# また、学習のエポック数を20に増やしています。\n",
        "\n",
        "# 乱数シードの設定\n",
        "torch.manual_seed(seed)\n",
        "print('Random seed: {}'.format(seed))\n",
        "\n",
        "# GPUを使えるか判定\n",
        "device = torch.device('cuda' if torch.cuda.is_available() else 'cpu')\n",
        "print('Using device: {}'.format(device))\n",
        "\n",
        "# ネットワーク構造の定義\n",
        "model = nn.Sequential(\n",
        "    nn.Flatten(),\n",
        "    nn.Linear(28*28, 256),\n",
        "    nn.ReLU(),\n",
        "    nn.Linear(256, 128),\n",
        "    nn.ReLU(),\n",
        "    nn.Linear(128, 10)\n",
        ").to(device)\n",
        "\n",
        "# 損失関数の定義\n",
        "criterion = nn.CrossEntropyLoss()\n",
        "\n",
        "# SGDの定義\n",
        "optimizer = optim.Adam(model.parameters(), lr=0.001)\n",
        "\n",
        "# dataloaderの作成\n",
        "# 学習データ用、バリデーションデータ用、テストデータ用をそれぞれ作成\n",
        "train_loader = DataLoader(train_dataset, batch_size=64, shuffle=True)\n",
        "val_loader = DataLoader(val_dataset, batch_size=64)\n",
        "test_loader = DataLoader(test_dataset, batch_size=64)\n",
        "\n",
        "# 学習ループ\n",
        "# 20エポック回す\n",
        "for epoch in range(20):\n",
        "    model.train()\n",
        "    epoch_loss = 0.0\n",
        "    for X_batch, y_batch in train_loader:\n",
        "        X_batch, y_batch = X_batch.to(device), y_batch.to(device)\n",
        "        optimizer.zero_grad()\n",
        "        outputs = model(X_batch)\n",
        "        loss = criterion(outputs, y_batch)\n",
        "        loss.backward()\n",
        "        optimizer.step()\n",
        "        epoch_loss += loss.item() * X_batch.size(0)\n",
        "    # 学習データに対する損失\n",
        "    avg_loss = epoch_loss / len(train_loader.dataset)\n",
        "    # バリデーションデータに対する損失\n",
        "    model.eval()\n",
        "    val_loss = 0.0\n",
        "    with torch.no_grad(): # バリデーションデータの勾配は不要なので自動微分をOFF\n",
        "        for X_val, y_val in val_loader:\n",
        "            X_val, y_val = X_val.to(device), y_val.to(device)\n",
        "            outputs = model(X_val)\n",
        "            loss = criterion(outputs, y_val)\n",
        "            val_loss += loss.item() * X_val.size(0)\n",
        "    avg_val_loss = val_loss / len(val_loader.dataset)\n",
        "    # 学習データ、バリデーションデータに対する損失を表示\n",
        "    print('Epoch {}, Train Loss: {}, Val Loss: {}'.format(epoch, avg_loss, avg_val_loss))\n",
        "\n",
        "\n",
        "# テストデータに対するaccuracy\n",
        "test_acc = evaluate(model, test_loader)\n",
        "print('Accuracy on test data: {}'.format(test_acc))\n",
        "\n",
        "# 学習中、学習データに対する損失は下がり続けています。\n",
        "# 一方、バリデーションデータに対する損失はEpoch 9あたりから低下しなくなり\n",
        "# それ以降のEpochでは上昇していく傾向にあります。\n",
        "# このことから過学習が起こっていると考えられます。"
      ],
      "metadata": {
        "colab": {
          "base_uri": "https://localhost:8080/"
        },
        "id": "_1NJhSEb6ywf",
        "outputId": "8e325121-4782-4967-ec45-f02139083908"
      },
      "execution_count": null,
      "outputs": [
        {
          "output_type": "stream",
          "name": "stdout",
          "text": [
            "Random seed: 42\n",
            "Using device: cpu\n",
            "Epoch 0, Train Loss: 0.5547939810276031, Val Loss: 0.4049241940021515\n",
            "Epoch 1, Train Loss: 0.38167404633522034, Val Loss: 0.36330958909988403\n",
            "Epoch 2, Train Loss: 0.34457733348846437, Val Loss: 0.36022012333869935\n",
            "Epoch 3, Train Loss: 0.32084663261413576, Val Loss: 0.33543130996227266\n",
            "Epoch 4, Train Loss: 0.2970120664358139, Val Loss: 0.3201426437497139\n",
            "Epoch 5, Train Loss: 0.28167706802129744, Val Loss: 0.3146257018685341\n",
            "Epoch 6, Train Loss: 0.270006624712944, Val Loss: 0.3456172767162323\n",
            "Epoch 7, Train Loss: 0.2583450923013687, Val Loss: 0.315134344291687\n",
            "Epoch 8, Train Loss: 0.2433577919149399, Val Loss: 0.32200641182661055\n",
            "Epoch 9, Train Loss: 0.23574478466033935, Val Loss: 0.2955359766721726\n",
            "Epoch 10, Train Loss: 0.2237887127685547, Val Loss: 0.3579214657783508\n",
            "Epoch 11, Train Loss: 0.21684333181381227, Val Loss: 0.30651279792785646\n",
            "Epoch 12, Train Loss: 0.2057379571533203, Val Loss: 0.3087021566510201\n",
            "Epoch 13, Train Loss: 0.20136573429107665, Val Loss: 0.3115143236160278\n",
            "Epoch 14, Train Loss: 0.1957837612724304, Val Loss: 0.3146034786105156\n",
            "Epoch 15, Train Loss: 0.18399334935188294, Val Loss: 0.3375514503717422\n",
            "Epoch 16, Train Loss: 0.17824164009928703, Val Loss: 0.35439375054836275\n",
            "Epoch 17, Train Loss: 0.17357224950909614, Val Loss: 0.36329278917312624\n",
            "Epoch 18, Train Loss: 0.16422926172733307, Val Loss: 0.3316493301987648\n",
            "Epoch 19, Train Loss: 0.15746857728242875, Val Loss: 0.3932093644857407\n",
            "Accuracy on test data: 0.8789\n"
          ]
        }
      ]
    },
    {
      "cell_type": "code",
      "source": [
        "#### ドロップアウトの導入\n",
        "# 過学習を防ぐための手法として、\n",
        "#「深層学習入門」第3回で学んだドロップアウトがあります。\n",
        "# ネットワーク構造の定義においてnn.Dropout()を入れることで、\n",
        "# その1つ前の層に対してドロップアウトを行うことができます。\n",
        "\n",
        "# 乱数シードの設定\n",
        "torch.manual_seed(seed)\n",
        "print('Random seed: {}'.format(seed))\n",
        "\n",
        "# GPUを使えるか判定\n",
        "device = torch.device('cuda' if torch.cuda.is_available() else 'cpu')\n",
        "print('Using device: {}'.format(device))\n",
        "\n",
        "# ネットワーク構造の定義\n",
        "model = nn.Sequential(\n",
        "    nn.Flatten(),\n",
        "    nn.Linear(28*28, 256),\n",
        "    nn.ReLU(),             # このReLUの結果がランダムに0になる\n",
        "    nn.Dropout(0.5),       # ドロップアウト(確率0.5)\n",
        "    nn.Linear(256, 128),\n",
        "    nn.ReLU(),\n",
        "    nn.Linear(128, 10)\n",
        ").to(device)\n",
        "\n",
        "# 損失関数の定義\n",
        "criterion = nn.CrossEntropyLoss()\n",
        "\n",
        "# SGDの定義\n",
        "optimizer = optim.Adam(model.parameters(), lr=0.001)\n",
        "\n",
        "# dataloaderの作成\n",
        "train_loader = DataLoader(train_dataset, batch_size=64, shuffle=True)\n",
        "val_loader = DataLoader(val_dataset, batch_size=64)\n",
        "test_loader = DataLoader(test_dataset, batch_size=64)\n",
        "\n",
        "# 学習ループ\n",
        "for epoch in range(20):\n",
        "    model.train()\n",
        "    epoch_loss = 0.0\n",
        "    for X_batch, y_batch in train_loader:\n",
        "        X_batch, y_batch = X_batch.to(device), y_batch.to(device)\n",
        "        optimizer.zero_grad()\n",
        "        outputs = model(X_batch)\n",
        "        loss = criterion(outputs, y_batch)\n",
        "        loss.backward()\n",
        "        optimizer.step()\n",
        "        epoch_loss += loss.item() * X_batch.size(0)\n",
        "    # 学習データに対する損失\n",
        "    avg_loss = epoch_loss / len(train_loader.dataset)\n",
        "    # バリデーションデータに対する損失\n",
        "    model.eval()\n",
        "    val_loss = 0.0\n",
        "    with torch.no_grad():\n",
        "        for X_val, y_val in val_loader:\n",
        "            X_val, y_val = X_val.to(device), y_val.to(device)\n",
        "            outputs = model(X_val)\n",
        "            loss = criterion(outputs, y_val)\n",
        "            val_loss += loss.item() * X_val.size(0)\n",
        "    avg_val_loss = val_loss / len(val_loader.dataset)\n",
        "    # 学習データ、バリデーションデータに対する損失を表示\n",
        "    print('Epoch {}, Train Loss: {}, Val Loss: {}'.format(epoch, avg_loss, avg_val_loss))\n",
        "\n",
        "\n",
        "# テストデータに対するaccuracy\n",
        "test_acc = evaluate(model, test_loader)\n",
        "print('Accuracy on test data: {}'.format(test_acc))\n",
        "\n",
        "# 学習の後半、バリデーションデータの損失が上昇する傾向が弱くなりました。\n",
        "# このことから、過学習をある程度低減できていると言えそうです。\n",
        "# 一方、学習データの損失は学習によって低下しているものの、ドロップアウトなしの場合より高くなっています。\n",
        "# このように、ドロップアウトを行うと学習データへのフィッティングは悪くなることが多いです。\n",
        "# テストデータに対するaccuracyは0.88であり、\n",
        "# ドロップアウトなしの場合とあまり変わりません。"
      ],
      "metadata": {
        "colab": {
          "base_uri": "https://localhost:8080/"
        },
        "id": "w-5MHP9w8R-6",
        "outputId": "de5823c4-ac3c-4e7a-811a-b5bc9dbe16f0"
      },
      "execution_count": null,
      "outputs": [
        {
          "output_type": "stream",
          "name": "stdout",
          "text": [
            "Random seed: 42\n",
            "Using device: cpu\n",
            "Epoch 0, Train Loss: 0.6300883201694488, Val Loss: 0.4444670174360275\n",
            "Epoch 1, Train Loss: 0.4541747616481781, Val Loss: 0.3850455300807953\n",
            "Epoch 2, Train Loss: 0.41776053621292114, Val Loss: 0.36552734005451204\n",
            "Epoch 3, Train Loss: 0.3969711669826508, Val Loss: 0.3804621128797531\n",
            "Epoch 4, Train Loss: 0.3824440495014191, Val Loss: 0.356860085439682\n",
            "Epoch 5, Train Loss: 0.36837677913665773, Val Loss: 0.34066004927158355\n",
            "Epoch 6, Train Loss: 0.35749769211292265, Val Loss: 0.3354764726638794\n",
            "Epoch 7, Train Loss: 0.34902029572486876, Val Loss: 0.32951362130641937\n",
            "Epoch 8, Train Loss: 0.3418429273509979, Val Loss: 0.334777814912796\n",
            "Epoch 9, Train Loss: 0.3365267326259613, Val Loss: 0.3182085011959076\n",
            "Epoch 10, Train Loss: 0.32978487602233886, Val Loss: 0.31861111223697663\n",
            "Epoch 11, Train Loss: 0.32410105884552004, Val Loss: 0.32227389376163484\n",
            "Epoch 12, Train Loss: 0.3189131157398224, Val Loss: 0.3129680426597595\n",
            "Epoch 13, Train Loss: 0.3142433122110367, Val Loss: 0.30729211287498476\n",
            "Epoch 14, Train Loss: 0.3076850533103943, Val Loss: 0.31792491850852966\n",
            "Epoch 15, Train Loss: 0.30496947799682617, Val Loss: 0.3042511610984802\n",
            "Epoch 16, Train Loss: 0.30148562336444856, Val Loss: 0.3160268943786621\n",
            "Epoch 17, Train Loss: 0.29766608130931854, Val Loss: 0.3251140099287033\n",
            "Epoch 18, Train Loss: 0.29460679401397705, Val Loss: 0.30409685065746306\n",
            "Epoch 19, Train Loss: 0.28884796716690064, Val Loss: 0.30280782871246337\n",
            "Accuracy on test data: 0.8822\n"
          ]
        }
      ]
    },
    {
      "cell_type": "code",
      "source": [
        "#### model.train(), model.eval()\n",
        "# ニューラルネットワークのレイヤーの中には、学習時と予測時で処理の異なるものがあります。\n",
        "# 例えば、ドロップアウトは、\n",
        "# 学習時にはユニットの出力を一定の確率で0にする(ユニットを削除する)処理を行いますが、\n",
        "# 予測時には全てのユニットを使用して出力を計算します。\n",
        "# 今まで使ってきたmodel.train(), model.eval()は、\n",
        "# このような学習時と予測時の動作の切り替えを行う機能を持っています。\n",
        "# 自分でコードを書くときには、いつも入れておくのが安全です。"
      ],
      "metadata": {
        "id": "KO_c97A6Bm4z"
      },
      "execution_count": null,
      "outputs": []
    },
    {
      "cell_type": "code",
      "source": [
        "#### バッチ正規化の導入\n",
        "# 学習の数値的安定性を高めるための手法として、\n",
        "# 「深層学習入門」第3回で学んだバッチ正規化があります。\n",
        "# ネットワーク構造の定義においてnn.BatchNorm1d()を入れることで、\n",
        "# その1つ前の層の出力に対してバッチ正規化を行うことができます。\n",
        "\n",
        "# 乱数シードの設定\n",
        "torch.manual_seed(seed)\n",
        "print('Random seed: {}'.format(seed))\n",
        "\n",
        "# GPUを使えるか判定\n",
        "device = torch.device('cuda' if torch.cuda.is_available() else 'cpu')\n",
        "print('Using device: {}'.format(device))\n",
        "\n",
        "# ネットワーク構造の定義\n",
        "model = nn.Sequential(\n",
        "    nn.Flatten(),\n",
        "    nn.Linear(28*28, 256),\n",
        "    nn.BatchNorm1d(256),   # 1つ前のLinear層の出力をバッチ正規化\n",
        "    nn.ReLU(),\n",
        "    nn.Dropout(0.5),       # ドロップアウトも使用\n",
        "    nn.Linear(256, 128),\n",
        "    nn.BatchNorm1d(128),   # 1つ前のLinear層の出力をバッチ正規化\n",
        "    nn.ReLU(),\n",
        "    nn.Linear(128, 10)\n",
        ").to(device)\n",
        "\n",
        "# 損失関数の定義\n",
        "criterion = nn.CrossEntropyLoss()\n",
        "\n",
        "# SGDの定義\n",
        "optimizer = optim.Adam(model.parameters(), lr=0.001)\n",
        "\n",
        "# dataloaderの作成\n",
        "train_loader = DataLoader(train_dataset, batch_size=64, shuffle=True)\n",
        "val_loader = DataLoader(val_dataset, batch_size=64)\n",
        "test_loader = DataLoader(test_dataset, batch_size=64)\n",
        "\n",
        "# 学習ループ\n",
        "for epoch in range(20):\n",
        "    model.train()\n",
        "    epoch_loss = 0.0\n",
        "    for X_batch, y_batch in train_loader:\n",
        "        X_batch, y_batch = X_batch.to(device), y_batch.to(device)\n",
        "        optimizer.zero_grad()\n",
        "        outputs = model(X_batch)\n",
        "        loss = criterion(outputs, y_batch)\n",
        "        loss.backward()\n",
        "        optimizer.step()\n",
        "        epoch_loss += loss.item() * X_batch.size(0)\n",
        "    # 学習データに対する損失\n",
        "    avg_loss = epoch_loss / len(train_loader.dataset)\n",
        "    # バリデーションデータに対する損失\n",
        "    model.eval()\n",
        "    val_loss = 0.0\n",
        "    with torch.no_grad():\n",
        "        for X_val, y_val in val_loader:\n",
        "            X_val, y_val = X_val.to(device), y_val.to(device)\n",
        "            outputs = model(X_val)\n",
        "            loss = criterion(outputs, y_val)\n",
        "            val_loss += loss.item() * X_val.size(0)\n",
        "    avg_val_loss = val_loss / len(val_loader.dataset)\n",
        "    # 学習データ、バリデーションデータに対する損失を表示\n",
        "    print('Epoch {}, Train Loss: {}, Val Loss: {}'.format(epoch, avg_loss, avg_val_loss))\n",
        "\n",
        "\n",
        "# テストデータに対するaccuracy\n",
        "test_acc = evaluate(model, test_loader)\n",
        "print('Accuracy on test data: {}'.format(test_acc))\n",
        "\n",
        "\n",
        "# バリデーションデータの損失は上昇しておらず、\n",
        "# 学習データの損失もドロップアウトのみの場合より小さくなりました。\n",
        "# 一方、テストデータに対するaccuracyは0.89であり、\n",
        "# 先程までのモデルとあまり変わりません。"
      ],
      "metadata": {
        "colab": {
          "base_uri": "https://localhost:8080/"
        },
        "id": "a1CUT4ERIZuc",
        "outputId": "33a82abb-042a-42f0-eb41-3f0cbdd28003"
      },
      "execution_count": null,
      "outputs": [
        {
          "output_type": "stream",
          "name": "stdout",
          "text": [
            "Random seed: 42\n",
            "Using device: cpu\n",
            "Epoch 0, Train Loss: 0.5516651962661743, Val Loss: 0.4354554348945618\n",
            "Epoch 1, Train Loss: 0.42528948493003843, Val Loss: 0.3720967957496643\n",
            "Epoch 2, Train Loss: 0.3919573538780212, Val Loss: 0.35312238719463346\n",
            "Epoch 3, Train Loss: 0.36853630029678347, Val Loss: 0.33329965550899504\n",
            "Epoch 4, Train Loss: 0.35640258535385133, Val Loss: 0.3269489110708237\n",
            "Epoch 5, Train Loss: 0.3407185674476624, Val Loss: 0.31668895487785337\n",
            "Epoch 6, Train Loss: 0.33065053926467897, Val Loss: 0.3154347938299179\n",
            "Epoch 7, Train Loss: 0.3187043284416199, Val Loss: 0.3119892119407654\n",
            "Epoch 8, Train Loss: 0.31296337824821474, Val Loss: 0.3095575761079788\n",
            "Epoch 9, Train Loss: 0.30212648568153383, Val Loss: 0.3058978836774826\n",
            "Epoch 10, Train Loss: 0.2952130706977844, Val Loss: 0.304269549369812\n",
            "Epoch 11, Train Loss: 0.2919199090385437, Val Loss: 0.2990282628059387\n",
            "Epoch 12, Train Loss: 0.28302521164894107, Val Loss: 0.30072348308563235\n",
            "Epoch 13, Train Loss: 0.27724399882793427, Val Loss: 0.29377342348098756\n",
            "Epoch 14, Train Loss: 0.27273278297424314, Val Loss: 0.29303742055892945\n",
            "Epoch 15, Train Loss: 0.2664666133594513, Val Loss: 0.29463255039453506\n",
            "Epoch 16, Train Loss: 0.26338332154273986, Val Loss: 0.29744345593452454\n",
            "Epoch 17, Train Loss: 0.2614627188205719, Val Loss: 0.29653908684253694\n",
            "Epoch 18, Train Loss: 0.25561606399536135, Val Loss: 0.283126673913002\n",
            "Epoch 19, Train Loss: 0.25248633458137515, Val Loss: 0.2926855079650879\n",
            "Accuracy on test data: 0.8916\n"
          ]
        }
      ]
    },
    {
      "cell_type": "markdown",
      "source": [
        "【課題】上の例にならって、ドロップアウトとバッチ正規化を導入したネットワークに対して、ドロップアウト確率を0.3に変更して、各エポックにおける学習データの損失、バリデーションデータの損失を表示してください。また、テストデータに対するaccuracyを計算して表示してください。それ以外の設定は上の例と同じにしてください。"
      ],
      "metadata": {
        "id": "u2_qZOCTOnoX"
      }
    },
    {
      "cell_type": "code",
      "source": [
        "# 乱数シードの設定\n",
        "torch.manual_seed(seed)\n",
        "print('Random seed: {}'.format(seed))\n",
        "\n",
        "# GPUを使えるか判定\n",
        "device = torch.device('cuda' if torch.cuda.is_available() else 'cpu')\n",
        "print('Using device: {}'.format(device))\n",
        "\n",
        "# ネットワーク構造の定義\n",
        "model = nn.Sequential(\n",
        "    nn.Flatten(),\n",
        "    nn.Linear(28*28, 256),\n",
        "    nn.BatchNorm1d(256),\n",
        "    nn.ReLU(),\n",
        "    nn.Dropout(0.3),       # ドロップアウト確率を0.3に設定\n",
        "    nn.Linear(256, 128),\n",
        "    nn.BatchNorm1d(128),\n",
        "    nn.ReLU(),\n",
        "    nn.Linear(128, 10)\n",
        ").to(device)\n",
        "\n",
        "# 損失関数の定義\n",
        "criterion = nn.CrossEntropyLoss()\n",
        "\n",
        "# SGDの定義\n",
        "optimizer = optim.Adam(model.parameters(), lr=0.001)\n",
        "\n",
        "# dataloaderの作成\n",
        "train_loader = DataLoader(train_dataset, batch_size=64, shuffle=True)\n",
        "val_loader = DataLoader(val_dataset, batch_size=64)\n",
        "test_loader = DataLoader(test_dataset, batch_size=64)\n",
        "\n",
        "# 学習ループ\n",
        "for epoch in range(20):\n",
        "    model.train()\n",
        "    epoch_loss = 0.0\n",
        "    for X_batch, y_batch in train_loader:\n",
        "        X_batch, y_batch = X_batch.to(device), y_batch.to(device)\n",
        "        optimizer.zero_grad()\n",
        "        outputs = model(X_batch)\n",
        "        loss = criterion(outputs, y_batch)\n",
        "        loss.backward()\n",
        "        optimizer.step()\n",
        "        epoch_loss += loss.item() * X_batch.size(0)\n",
        "    # 学習データに対する損失\n",
        "    avg_loss = epoch_loss / len(train_loader.dataset)\n",
        "    # バリデーションデータに対する損失\n",
        "    model.eval()\n",
        "    val_loss = 0.0\n",
        "    with torch.no_grad():\n",
        "        for X_val, y_val in val_loader:\n",
        "            X_val, y_val = X_val.to(device), y_val.to(device)\n",
        "            outputs = model(X_val)\n",
        "            loss = criterion(outputs, y_val)\n",
        "            val_loss += loss.item() * X_val.size(0)\n",
        "    avg_val_loss = val_loss / len(val_loader.dataset)\n",
        "    # 学習データ、バリデーションデータに対する損失を表示\n",
        "    print('Epoch {}, Train Loss: {}, Val Loss: {}'.format(epoch, avg_loss, avg_val_loss))\n",
        "\n",
        "\n",
        "# テストデータに対するaccuracy\n",
        "test_acc = evaluate(model, test_loader)\n",
        "print('Accuracy on test data: {}'.format(test_acc))"
      ],
      "metadata": {
        "colab": {
          "base_uri": "https://localhost:8080/"
        },
        "id": "s1f5WCIfPWM7",
        "outputId": "b9585523-53af-4322-e51c-722fb481f2d8"
      },
      "execution_count": null,
      "outputs": [
        {
          "output_type": "stream",
          "name": "stdout",
          "text": [
            "Random seed: 42\n",
            "Using device: cpu\n",
            "Epoch 0, Train Loss: 0.5094331258392334, Val Loss: 0.4274532521724701\n",
            "Epoch 1, Train Loss: 0.3870658652687073, Val Loss: 0.3544882797718048\n",
            "Epoch 2, Train Loss: 0.35022201350212095, Val Loss: 0.3372200974225998\n",
            "Epoch 3, Train Loss: 0.3259115677833557, Val Loss: 0.32081438987255095\n",
            "Epoch 4, Train Loss: 0.3126559733772278, Val Loss: 0.3045757827281952\n",
            "Epoch 5, Train Loss: 0.29747344458580016, Val Loss: 0.30528345670700074\n",
            "Epoch 6, Train Loss: 0.28487977198600767, Val Loss: 0.3029666917085648\n",
            "Epoch 7, Train Loss: 0.27288981605529783, Val Loss: 0.3145903688907623\n",
            "Epoch 8, Train Loss: 0.26177658328056336, Val Loss: 0.31448354811668394\n",
            "Epoch 9, Train Loss: 0.25501125589370727, Val Loss: 0.3011355150103569\n",
            "Epoch 10, Train Loss: 0.24616671602249146, Val Loss: 0.2942640570163727\n",
            "Epoch 11, Train Loss: 0.23835686042785645, Val Loss: 0.31115437541007995\n",
            "Epoch 12, Train Loss: 0.2333948631000519, Val Loss: 0.30501475112438203\n",
            "Epoch 13, Train Loss: 0.22427219120025635, Val Loss: 0.2882071568548679\n",
            "Epoch 14, Train Loss: 0.2192020021533966, Val Loss: 0.3072242260813713\n",
            "Epoch 15, Train Loss: 0.21189329986572267, Val Loss: 0.3112948826611042\n",
            "Epoch 16, Train Loss: 0.20945992488384246, Val Loss: 0.3004763263642788\n",
            "Epoch 17, Train Loss: 0.20572127329349518, Val Loss: 0.3085060292303562\n",
            "Epoch 18, Train Loss: 0.20212241517543791, Val Loss: 0.2959970251441002\n",
            "Epoch 19, Train Loss: 0.19306479614257813, Val Loss: 0.29504477261304857\n",
            "Accuracy on test data: 0.8912\n"
          ]
        }
      ]
    },
    {
      "cell_type": "code",
      "source": [
        "#### 畳み込みニューラルネットワーク(CNN)\n",
        "# CNNを使用する場合も、多層パーセプトロンと同様に、\n",
        "# レイヤーを部品のように組み合わせてネットワーク構造を定義します。\n",
        "# torch.nnに畳み込みやプーリングのクラスが用意されています。\n",
        "\n",
        "# nn.Conv2d(in_channels, out_channels, kernel_size, stride, padding)\n",
        "# 画像のような2次元データに対して畳み込み演算を行うレイヤー。\n",
        "# 入力のshapeは3次元(チャネル, 高さ, 幅)\n",
        "# 主な引数として、入力チャネル数、出力チャネル数(フィルタ数)、\n",
        "# カーネル(フィルタ)のサイズ、ストライド、パディングするピクセル数などを指定。\n",
        "\n",
        "# nn.MaxPool2d(kernel_size, stride)\n",
        "# 画像のような2次元データに対して最大プーリングを行うレイヤー。\n",
        "# 入力のshapeは3次元(チャネル, 高さ, 幅)\n",
        "# 主な引数として、カーネル(フィルタ)のサイズなどを指定。\n",
        "\n",
        "# ネットワーク構造の定義\n",
        "# Fashion MNISTの画像データのshapeは(1, 28, 28)なので、\n",
        "# 最初の畳み込み層のin_channelsは1とします。\n",
        "model = nn.Sequential(\n",
        "    # 畳み込み＆プーリング1\n",
        "    nn.Conv2d(in_channels=1, out_channels=32, kernel_size=3, stride=1, padding=1),\n",
        "    nn.ReLU(),\n",
        "    nn.MaxPool2d(kernel_size=2, stride=2),\n",
        "    # 畳み込み＆プーリング2\n",
        "    nn.Conv2d(in_channels=32, out_channels=64, kernel_size=3, stride=1, padding=1),\n",
        "    nn.ReLU(),\n",
        "    nn.MaxPool2d(kernel_size=2, stride=2),\n",
        "    # nn.Flatten()で1次元に変換して全結合層へ\n",
        "    nn.Flatten(),\n",
        "    nn.Linear(64 * 7 * 7, 128), # 入力のユニット数に注意\n",
        "    nn.ReLU(),\n",
        "    nn.Linear(128, 10)\n",
        ").to(device)"
      ],
      "metadata": {
        "id": "ICYb9iQTbxe8"
      },
      "execution_count": null,
      "outputs": []
    },
    {
      "cell_type": "code",
      "source": [
        "# 全結合層に繋げる部分のユニット数の指定には注意が必要です。\n",
        "# カーネルサイズ、ストライド、パディングなどを考慮して、\n",
        "# shapeがどのように変化していくか考える必要があります。\n",
        "\n",
        "# ネットワーク構造の定義\n",
        "model = nn.Sequential(\n",
        "    # 入力画像は(1, 28, 28)\n",
        "\n",
        "    # 畳み込み＆プーリング1\n",
        "    nn.Conv2d(in_channels=1, out_channels=32, kernel_size=3, stride=1, padding=1),\n",
        "    # フィルタ数32で畳み込みしたのでチャネル数は32に増える。\n",
        "    # カーネルサイズ3、パディング1なので、高さ、幅は変わらない。\n",
        "    # そのためshapeは(32, 28, 28)となる。\n",
        "    nn.ReLU(),\n",
        "    nn.MaxPool2d(kernel_size=2, stride=2),\n",
        "    # 最大プーリングではチャネル数は変わらない。\n",
        "    # カーネルサイズ2、ストライド2なので、高さ、幅は半分になる。\n",
        "    # そのためshapeは(32, 14, 14)となる。\n",
        "\n",
        "    # 畳み込み＆プーリング2\n",
        "    nn.Conv2d(in_channels=32, out_channels=64, kernel_size=3, stride=1, padding=1),\n",
        "    # フィルタ数64で畳み込みしたのでチャネル数は64に増える。\n",
        "    # カーネルサイズ3、パディング1なので、高さ、幅は変わらない。\n",
        "    # そのためshapeは(64, 14, 14)となる。\n",
        "    nn.ReLU(),\n",
        "    nn.MaxPool2d(kernel_size=2, stride=2),\n",
        "    # 最大プーリングではチャネル数は変わらない。\n",
        "    # カーネルサイズ2、ストライド2なので、高さ、幅は半分になる。\n",
        "    # そのためshapeは(64, 7, 7)となる。\n",
        "\n",
        "    # (64, 7, 7)を1次元に変換\n",
        "    nn.Flatten(),\n",
        "    # そのため入力のユニット数は64 * 7 * 7となる\n",
        "    nn.Linear(64 * 7 * 7, 128),\n",
        "    nn.ReLU(),\n",
        "    nn.Linear(128, 10)\n",
        ").to(device)"
      ],
      "metadata": {
        "id": "fEQnR0Hxh4eE"
      },
      "execution_count": null,
      "outputs": []
    },
    {
      "cell_type": "code",
      "source": [
        "# ネットワークを定義した後の流れは、これまでと同様です。\n",
        "# CNNの計算は、GPUを使用するとかなり高速化します。\n",
        "# CPUしか使えないと計算は重いです。\n",
        "\n",
        "# 乱数シードの設定\n",
        "torch.manual_seed(seed)\n",
        "print('Random seed: {}'.format(seed))\n",
        "\n",
        "# GPUを使えるか判定\n",
        "device = torch.device('cuda' if torch.cuda.is_available() else 'cpu')\n",
        "print('Using device: {}'.format(device))\n",
        "\n",
        "# ネットワーク構造の定義\n",
        "model = nn.Sequential(\n",
        "    # 畳み込み＆プーリング1\n",
        "    nn.Conv2d(in_channels=1, out_channels=32, kernel_size=3, stride=1, padding=1),\n",
        "    nn.ReLU(),\n",
        "    nn.MaxPool2d(kernel_size=2, stride=2),\n",
        "    # 畳み込み＆プーリング2\n",
        "    nn.Conv2d(in_channels=32, out_channels=64, kernel_size=3, stride=1, padding=1),\n",
        "    nn.ReLU(),\n",
        "    nn.MaxPool2d(kernel_size=2, stride=2),\n",
        "    # 全結合層\n",
        "    nn.Flatten(),\n",
        "    nn.Linear(64 * 7 * 7, 128),\n",
        "    nn.ReLU(),\n",
        "    nn.Linear(128, 10)\n",
        ").to(device)\n",
        "\n",
        "# 損失関数の定義\n",
        "criterion = nn.CrossEntropyLoss()\n",
        "\n",
        "# SGDの定義\n",
        "optimizer = optim.Adam(model.parameters(), lr=0.001)\n",
        "\n",
        "# dataloaderの作成\n",
        "train_loader = DataLoader(train_dataset, batch_size=64, shuffle=True)\n",
        "val_loader = DataLoader(val_dataset, batch_size=64)\n",
        "test_loader = DataLoader(test_dataset, batch_size=64)\n",
        "\n",
        "# 学習ループ\n",
        "for epoch in range(20):\n",
        "    model.train()\n",
        "    epoch_loss = 0.0\n",
        "    for X_batch, y_batch in train_loader:\n",
        "        X_batch, y_batch = X_batch.to(device), y_batch.to(device)\n",
        "        optimizer.zero_grad()\n",
        "        outputs = model(X_batch)\n",
        "        loss = criterion(outputs, y_batch)\n",
        "        loss.backward()\n",
        "        optimizer.step()\n",
        "        epoch_loss += loss.item() * X_batch.size(0)\n",
        "    # 学習データに対する損失\n",
        "    avg_loss = epoch_loss / len(train_loader.dataset)\n",
        "    # バリデーションデータに対する損失\n",
        "    model.eval()\n",
        "    val_loss = 0.0\n",
        "    with torch.no_grad():\n",
        "        for X_val, y_val in val_loader:\n",
        "            X_val, y_val = X_val.to(device), y_val.to(device)\n",
        "            outputs = model(X_val)\n",
        "            loss = criterion(outputs, y_val)\n",
        "            val_loss += loss.item() * X_val.size(0)\n",
        "    avg_val_loss = val_loss / len(val_loader.dataset)\n",
        "    # 学習データ、バリデーションデータに対する損失を表示\n",
        "    print('Epoch {}, Train Loss: {}, Val Loss: {}'.format(epoch, avg_loss, avg_val_loss))\n",
        "\n",
        "\n",
        "# テストデータに対するaccuracy\n",
        "test_acc = evaluate(model, test_loader)\n",
        "print('Accuracy on test data: {}'.format(test_acc))\n",
        "\n",
        "# テストデータに対するaccuracyは0.91となり、多層パーセプトロンより高くなりました。\n",
        "# 一方、学習中にバリデーションデータの損失が上昇しており、過学習の傾向が見られます。"
      ],
      "metadata": {
        "colab": {
          "base_uri": "https://localhost:8080/"
        },
        "id": "OBLsXPFoEFtd",
        "outputId": "72b8dccc-ee65-4ab1-f913-1bb2901ca032"
      },
      "execution_count": null,
      "outputs": [
        {
          "output_type": "stream",
          "name": "stdout",
          "text": [
            "Random seed: 42\n",
            "Using device: cpu\n",
            "Epoch 0, Train Loss: 0.48517267895698546, Val Loss: 0.35779689018726346\n",
            "Epoch 1, Train Loss: 0.30864957421302797, Val Loss: 0.3014959420681\n",
            "Epoch 2, Train Loss: 0.2609649342727661, Val Loss: 0.25917087880373\n",
            "Epoch 3, Train Loss: 0.23208506774902343, Val Loss: 0.256802592253685\n",
            "Epoch 4, Train Loss: 0.20662740722894668, Val Loss: 0.23854945868253707\n",
            "Epoch 5, Train Loss: 0.18586748372793196, Val Loss: 0.22932424560785294\n",
            "Epoch 6, Train Loss: 0.16700352699041365, Val Loss: 0.21524789853096007\n",
            "Epoch 7, Train Loss: 0.14800080575227736, Val Loss: 0.21651316295266151\n",
            "Epoch 8, Train Loss: 0.13017285982608795, Val Loss: 0.2172696790188551\n",
            "Epoch 9, Train Loss: 0.11685897644519806, Val Loss: 0.21567643413692714\n",
            "Epoch 10, Train Loss: 0.10030245037555695, Val Loss: 0.22682637152187526\n",
            "Epoch 11, Train Loss: 0.0876195889866352, Val Loss: 0.23060812353268265\n",
            "Epoch 12, Train Loss: 0.07490985225498677, Val Loss: 0.24433898410275579\n",
            "Epoch 13, Train Loss: 0.06369420378446579, Val Loss: 0.24955607781810685\n",
            "Epoch 14, Train Loss: 0.05489784328609705, Val Loss: 0.3081068353943527\n",
            "Epoch 15, Train Loss: 0.047771578515172004, Val Loss: 0.29511381526067854\n",
            "Epoch 16, Train Loss: 0.042110680795907976, Val Loss: 0.32833991744800006\n",
            "Epoch 17, Train Loss: 0.035417500110119585, Val Loss: 0.32645004110210574\n",
            "Epoch 18, Train Loss: 0.030252721568904815, Val Loss: 0.3537266995523125\n",
            "Epoch 19, Train Loss: 0.03015864250406623, Val Loss: 0.3649000874192454\n",
            "Accuracy on test data: 0.918\n"
          ]
        }
      ]
    },
    {
      "cell_type": "code",
      "source": [
        "#### CNNにおけるドロップアウト、バッチ正規化\n",
        "# 過学習の低減、学習の安定性のために、\n",
        "# CNNにもドロップアウトとバッチ正規化を導入します。\n",
        "# nn.Conv2d()に対してバッチ正規化を行う場合、nn.BatchNorm2d()を使用します。\n",
        "# nn.BatchNorm2d()の引数にはチャネル数を指定します。\n",
        "\n",
        "# 乱数シードの設定\n",
        "torch.manual_seed(seed)\n",
        "print('Random seed: {}'.format(seed))\n",
        "\n",
        "# GPUを使えるか判定\n",
        "device = torch.device('cuda' if torch.cuda.is_available() else 'cpu')\n",
        "print('Using device: {}'.format(device))\n",
        "\n",
        "# ネットワーク構造の定義\n",
        "model = nn.Sequential(\n",
        "    # 畳み込み＆プーリング1\n",
        "    nn.Conv2d(in_channels=1, out_channels=32, kernel_size=3, stride=1, padding=1),\n",
        "    nn.BatchNorm2d(32),  # バッチ正規化\n",
        "    nn.ReLU(),\n",
        "    nn.Dropout(0.25),    # ドロップアウト\n",
        "    nn.MaxPool2d(kernel_size=2, stride=2),\n",
        "    # 畳み込み＆プーリング2\n",
        "    nn.Conv2d(in_channels=32, out_channels=64, kernel_size=3, stride=1, padding=1),\n",
        "    nn.BatchNorm2d(64),  # バッチ正規化\n",
        "    nn.ReLU(),\n",
        "    nn.Dropout(0.25),    # ドロップアウト\n",
        "    nn.MaxPool2d(kernel_size=2, stride=2),\n",
        "    # 全結合層\n",
        "    nn.Flatten(),\n",
        "    nn.Linear(64 * 7 * 7, 128),\n",
        "    nn.BatchNorm1d(128), # ここは1次元なのでBatchNorm1d()\n",
        "    nn.ReLU(),\n",
        "    nn.Dropout(0.5),     # ドロップアウト\n",
        "    nn.Linear(128, 10)\n",
        ").to(device)\n",
        "\n",
        "# 損失関数の定義\n",
        "criterion = nn.CrossEntropyLoss()\n",
        "\n",
        "# SGDの定義\n",
        "optimizer = optim.Adam(model.parameters(), lr=0.001)\n",
        "\n",
        "# dataloaderの指定\n",
        "train_loader = DataLoader(train_dataset, batch_size=64, shuffle=True)\n",
        "val_loader = DataLoader(val_dataset, batch_size=64)\n",
        "test_loader = DataLoader(test_dataset, batch_size=64)\n",
        "\n",
        "# 学習ループ\n",
        "for epoch in range(20):\n",
        "    model.train()\n",
        "    epoch_loss = 0.0\n",
        "    for X_batch, y_batch in train_loader:\n",
        "        X_batch, y_batch = X_batch.to(device), y_batch.to(device)\n",
        "        optimizer.zero_grad()\n",
        "        outputs = model(X_batch)\n",
        "        loss = criterion(outputs, y_batch)\n",
        "        loss.backward()\n",
        "        optimizer.step()\n",
        "        epoch_loss += loss.item() * X_batch.size(0)\n",
        "    # 学習データに対する損失\n",
        "    avg_loss = epoch_loss / len(train_loader.dataset)\n",
        "    # バリデーションデータに対する損失\n",
        "    model.eval()\n",
        "    val_loss = 0.0\n",
        "    with torch.no_grad():\n",
        "        for X_val, y_val in val_loader:\n",
        "            X_val, y_val = X_val.to(device), y_val.to(device)\n",
        "            outputs = model(X_val)\n",
        "            loss = criterion(outputs, y_val)\n",
        "            val_loss += loss.item() * X_val.size(0)\n",
        "    avg_val_loss = val_loss / len(val_loader.dataset)\n",
        "    # 学習データ、バリデーションデータに対する損失を表示\n",
        "    print('Epoch {}, Train Loss: {}, Val Loss: {}'.format(epoch, avg_loss, avg_val_loss))\n",
        "\n",
        "\n",
        "# テストデータに対するaccuracy\n",
        "test_acc = evaluate(model, test_loader)\n",
        "print('Accuracy on test data: {}'.format(test_acc))\n",
        "\n",
        "# 学習中にバリデーションデータの損失が上昇しなくなり、過学習を低減できました。\n",
        "# テストデータに対するaccuracyは0.93となり、これまでで一番高くなりました。"
      ],
      "metadata": {
        "colab": {
          "base_uri": "https://localhost:8080/"
        },
        "id": "YPfjncXzGLh-",
        "outputId": "f9c3cc03-34f9-4cf3-f878-bf8e592853f3"
      },
      "execution_count": null,
      "outputs": [
        {
          "output_type": "stream",
          "name": "stdout",
          "text": [
            "Random seed: 42\n",
            "Using device: cpu\n",
            "Epoch 0, Train Loss: 0.44002080263137816, Val Loss: 0.3099728805541992\n",
            "Epoch 1, Train Loss: 0.3051741741466522, Val Loss: 0.2905934884309769\n",
            "Epoch 2, Train Loss: 0.2705926326847076, Val Loss: 0.26118716233968736\n",
            "Epoch 3, Train Loss: 0.24988129682540894, Val Loss: 0.2632207538843155\n",
            "Epoch 4, Train Loss: 0.23551233954906464, Val Loss: 0.26379272607564924\n",
            "Epoch 5, Train Loss: 0.2225722536468506, Val Loss: 0.22347612277269363\n",
            "Epoch 6, Train Loss: 0.21087713823795318, Val Loss: 0.23192704473733902\n",
            "Epoch 7, Train Loss: 0.2031723307132721, Val Loss: 0.22172870951890947\n",
            "Epoch 8, Train Loss: 0.19717631232738494, Val Loss: 0.23040133513212205\n",
            "Epoch 9, Train Loss: 0.18527552570819855, Val Loss: 0.2101199106782675\n",
            "Epoch 10, Train Loss: 0.18185719636678696, Val Loss: 0.20419561318159105\n",
            "Epoch 11, Train Loss: 0.1740176070690155, Val Loss: 0.20991575306653976\n",
            "Epoch 12, Train Loss: 0.1694577922153473, Val Loss: 0.21016493985652923\n",
            "Epoch 13, Train Loss: 0.16794961712360382, Val Loss: 0.20705614595413208\n",
            "Epoch 14, Train Loss: 0.16160988810300828, Val Loss: 0.22204808460474015\n",
            "Epoch 15, Train Loss: 0.15733404253840447, Val Loss: 0.20291364351511001\n",
            "Epoch 16, Train Loss: 0.15663370139360427, Val Loss: 0.19797515159845352\n",
            "Epoch 17, Train Loss: 0.14722062643527983, Val Loss: 0.20466117574572562\n",
            "Epoch 18, Train Loss: 0.14994908455848693, Val Loss: 0.20412273854613305\n",
            "Epoch 19, Train Loss: 0.13886130426168442, Val Loss: 0.19331281521320343\n",
            "Accuracy on test data: 0.9263\n"
          ]
        }
      ]
    },
    {
      "cell_type": "markdown",
      "source": [
        "【課題】上の例を元に、チャネル数、カーネルサイズ、パティングを変更したCNNを作成して、学習後の損失関数の値を表示してください。各エポックにおける学習データの損失、バリデーションデータの損失を表示してください。また、テストデータに対するaccuracyを計算して表示してください。それ以外の設定は上の例と同じにしてください。\n",
        "\n",
        "CNNの構造は自由に設定していいですが、エラーが出る設定や、学習で損失が全く低下しない設定は不可とします。ネットワークを大きくしすぎると計算時間が非常に長くなるので注意してください。\n"
      ],
      "metadata": {
        "id": "QgRJOGLSoA2w"
      }
    },
    {
      "cell_type": "code",
      "source": [
        "#"
      ],
      "metadata": {
        "id": "vgvF2Hc0_Dzt"
      },
      "execution_count": null,
      "outputs": []
    }
  ]
}